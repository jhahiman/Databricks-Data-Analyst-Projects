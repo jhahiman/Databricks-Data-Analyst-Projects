{
 "cells": [
  {
   "cell_type": "markdown",
   "metadata": {
    "application/vnd.databricks.v1+cell": {
     "cellMetadata": {},
     "inputWidgets": {},
     "nuid": "5ebbce80-df05-4272-889d-df3da26ff015",
     "showTitle": false,
     "tableResultSettingsMap": {},
     "title": ""
    }
   },
   "source": [
    "# 🛒 Retail Sales Insights (Databricks SQL + Dashboards)\n",
    "\n",
    "**Goal**  \n",
    "Turn raw e-commerce transactions into executive-grade insights: revenue trends, top products/customers, retention, churn, geography, and product affinities.\n",
    "\n",
    "**Medallion Architecture**  \n",
    "- **Bronze**: `production.bronze.retail_ecommerce_raw` (raw import)  \n",
    "- **Silver**: `production.silver.retail_ecommerce_clean` (typed, cleaned, deduped)  \n",
    "- **Gold**: Aggregated tables in `production.gold.*` for BI & dashboards\n",
    "\n",
    "**Business Questions**  \n",
    "1) Revenue trends (daily/monthly)  \n",
    "2) Top products (revenue & units)  \n",
    "3) Top customers & LTV  \n",
    "4) Repeat customer rate  \n",
    "5) AOV (average order value)  \n",
    "6) Country revenue & customer base  \n",
    "7) Churn (silent customers)  \n",
    "8) Refunds/returns exposure (neg qty)  \n",
    "9) Customer revenue tiers (80/20 view)  \n",
    "10) Product affinity (bought-together pairs)\n",
    "\n",
    "> Notes: This notebook creates gold tables and query views you can wire directly to Databricks SQL dashboards.\n"
   ]
  },
  {
   "cell_type": "markdown",
   "metadata": {
    "application/vnd.databricks.v1+cell": {
     "cellMetadata": {},
     "inputWidgets": {},
     "nuid": "c7225ff3-ff42-4a62-b90f-0a7dfab04a15",
     "showTitle": false,
     "tableResultSettingsMap": {},
     "title": ""
    }
   },
   "source": [
    "Sanity check environment"
   ]
  },
  {
   "cell_type": "code",
   "execution_count": 0,
   "metadata": {
    "application/vnd.databricks.v1+cell": {
     "cellMetadata": {
      "byteLimit": 2048000,
      "implicitDf": true,
      "rowLimit": 10000
     },
     "inputWidgets": {},
     "nuid": "545d6071-9a52-43ce-9d1c-2a2e3c003d9b",
     "showTitle": false,
     "tableResultSettingsMap": {},
     "title": ""
    }
   },
   "outputs": [],
   "source": [
    "%sql\n",
    "Use catalog production"
   ]
  },
  {
   "cell_type": "code",
   "execution_count": 0,
   "metadata": {
    "application/vnd.databricks.v1+cell": {
     "cellMetadata": {
      "byteLimit": 2048000,
      "implicitDf": true,
      "rowLimit": 10000
     },
     "inputWidgets": {},
     "nuid": "482c2655-0a76-470a-9712-78b1d62d8ea6",
     "showTitle": false,
     "tableResultSettingsMap": {},
     "title": ""
    }
   },
   "outputs": [],
   "source": [
    "%sql\n",
    "select count(*) from production.bronze.retail_ecommerce_raw"
   ]
  },
  {
   "cell_type": "code",
   "execution_count": 0,
   "metadata": {
    "application/vnd.databricks.v1+cell": {
     "cellMetadata": {
      "byteLimit": 2048000,
      "implicitDf": true,
      "rowLimit": 10000
     },
     "inputWidgets": {},
     "nuid": "7f14f307-7760-4ae8-9ea0-dd2ec2148f5f",
     "showTitle": false,
     "tableResultSettingsMap": {},
     "title": ""
    }
   },
   "outputs": [],
   "source": [
    "%sql\n",
    "select count(*) from production.silver.retail_ecommerce_clean"
   ]
  },
  {
   "cell_type": "code",
   "execution_count": 0,
   "metadata": {
    "application/vnd.databricks.v1+cell": {
     "cellMetadata": {
      "byteLimit": 2048000,
      "implicitDf": true,
      "rowLimit": 10000
     },
     "inputWidgets": {},
     "nuid": "ed7561e1-fdcc-4329-9bf9-15e8c867fb58",
     "showTitle": false,
     "tableResultSettingsMap": {},
     "title": ""
    }
   },
   "outputs": [],
   "source": [
    "%sql\n",
    "CREATE OR REPLACE VIEW production.silver.v_retail_clean_typed AS\n",
    "SELECT\n",
    "  CAST(InvoiceNo AS STRING)                        AS invoice_no,\n",
    "  CAST(StockCode AS STRING)                        AS stock_code,\n",
    "  TRIM(Description)                                AS description,\n",
    "  CAST(Quantity AS INT)                            AS quantity,\n",
    "  -- Try explicit format first, then fallback\n",
    "  COALESCE(TRY_TO_TIMESTAMP(InvoiceDate,'M/d/yyyy H:mm'),\n",
    "           TRY_TO_TIMESTAMP(InvoiceDate))          AS invoice_ts,\n",
    "  CAST(UnitPrice AS DECIMAL(10,2))                 AS unit_price,\n",
    "  CAST(CustomerID AS STRING)                       AS customer_id,\n",
    "  TRIM(Country)                                    AS country,\n",
    "  CAST(Quantity AS DECIMAL(18,2)) * \n",
    "  CAST(UnitPrice AS DECIMAL(18,2))                 AS revenue,\n",
    "  DATE(COALESCE(TRY_TO_TIMESTAMP(InvoiceDate,'M/d/yyyy H:mm'),\n",
    "                TRY_TO_TIMESTAMP(InvoiceDate)))    AS invoice_date,\n",
    "  YEAR(COALESCE(TRY_TO_TIMESTAMP(InvoiceDate,'M/d/yyyy H:mm'),\n",
    "                TRY_TO_TIMESTAMP(InvoiceDate)))    AS invoice_year,\n",
    "  MONTH(COALESCE(TRY_TO_TIMESTAMP(InvoiceDate,'M/d/yyyy H:mm'),\n",
    "                 TRY_TO_TIMESTAMP(InvoiceDate)))   AS invoice_month\n",
    "FROM production.silver.retail_ecommerce_clean;\n"
   ]
  },
  {
   "cell_type": "markdown",
   "metadata": {
    "application/vnd.databricks.v1+cell": {
     "cellMetadata": {},
     "inputWidgets": {},
     "nuid": "98983bf5-c3b2-4acf-927b-2d8608e6cfc8",
     "showTitle": false,
     "tableResultSettingsMap": {},
     "title": ""
    }
   },
   "source": [
    "GOLD: Daily Sales\n"
   ]
  },
  {
   "cell_type": "code",
   "execution_count": 0,
   "metadata": {
    "application/vnd.databricks.v1+cell": {
     "cellMetadata": {
      "byteLimit": 2048000,
      "implicitDf": true,
      "rowLimit": 10000
     },
     "inputWidgets": {},
     "nuid": "3ed5d686-57d9-4d39-82c2-14ed7ee0c963",
     "showTitle": false,
     "tableResultSettingsMap": {},
     "title": ""
    }
   },
   "outputs": [],
   "source": [
    "%sql\n",
    "create or replace table production.gold.retail_daily_sales as \n",
    "select \n",
    "  invoice_date                  AS sales_date,\n",
    "  COUNT(DISTINCT invoice_no)    AS orders,\n",
    "  SUM(quantity)                 AS items_sold,\n",
    "  SUM(revenue)                  AS revenue\n",
    "FROM production.silver.v_retail_clean_typed\n",
    "GROUP BY invoice_date\n",
    "ORDER BY sales_date;"
   ]
  },
  {
   "cell_type": "markdown",
   "metadata": {
    "application/vnd.databricks.v1+cell": {
     "cellMetadata": {},
     "inputWidgets": {},
     "nuid": "6098a2da-7436-4b3c-abf8-117a0e5ee523",
     "showTitle": false,
     "tableResultSettingsMap": {},
     "title": ""
    }
   },
   "source": [
    "GOLD 2: Monthly Sales"
   ]
  },
  {
   "cell_type": "code",
   "execution_count": 0,
   "metadata": {
    "application/vnd.databricks.v1+cell": {
     "cellMetadata": {
      "byteLimit": 2048000,
      "implicitDf": true,
      "rowLimit": 10000
     },
     "inputWidgets": {},
     "nuid": "3ea4ab6a-a305-4028-b40c-8d611326213f",
     "showTitle": false,
     "tableResultSettingsMap": {},
     "title": ""
    }
   },
   "outputs": [],
   "source": [
    "%sql\n",
    "-- MAKE_DATE(invoice_year, invoice_month, 1) constructs the first day of each month (e.g., 2024-06-01) from the year and month columns.\n",
    "CREATE OR REPLACE TABLE production.gold.retail_monthly_sales AS\n",
    "SELECT\n",
    "  MAKE_DATE(invoice_year, invoice_month, 1) AS month_start,\n",
    "  COUNT(DISTINCT invoice_no)                AS orders,\n",
    "  SUM(quantity)                             AS items_sold,\n",
    "  SUM(revenue)                              AS revenue\n",
    "FROM production.silver.v_retail_clean_typed\n",
    "GROUP BY MAKE_DATE(invoice_year, invoice_month, 1)\n",
    "ORDER BY month_start;"
   ]
  },
  {
   "cell_type": "markdown",
   "metadata": {
    "application/vnd.databricks.v1+cell": {
     "cellMetadata": {},
     "inputWidgets": {},
     "nuid": "b3de94c5-909b-4017-9ef8-cbc0101329ef",
     "showTitle": false,
     "tableResultSettingsMap": {},
     "title": ""
    }
   },
   "source": [
    "GOLD 3: Customer LTV"
   ]
  },
  {
   "cell_type": "code",
   "execution_count": 0,
   "metadata": {
    "application/vnd.databricks.v1+cell": {
     "cellMetadata": {
      "byteLimit": 2048000,
      "implicitDf": true,
      "rowLimit": 10000
     },
     "inputWidgets": {},
     "nuid": "442ed7e7-008e-41ca-b984-a9d74c0ec868",
     "showTitle": false,
     "tableResultSettingsMap": {},
     "title": ""
    }
   },
   "outputs": [],
   "source": [
    "%sql\n",
    "CREATE OR REPLACE TABLE production.gold.retail_customer_ltv AS\n",
    "SELECT\n",
    "  customer_id,\n",
    "  COUNT(DISTINCT invoice_no)                 AS orders,\n",
    "  SUM(revenue)                               AS total_spent,\n",
    "  -- First purchase date for the customer\n",
    "  MIN(invoice_date)                          AS first_order_date,\n",
    "  -- Most recent purchase date for the customer\n",
    "  MAX(invoice_date)                          AS last_order_date\n",
    "FROM production.silver.v_retail_clean_typed\n",
    "GROUP BY customer_id;"
   ]
  },
  {
   "cell_type": "markdown",
   "metadata": {
    "application/vnd.databricks.v1+cell": {
     "cellMetadata": {},
     "inputWidgets": {},
     "nuid": "cf5b7ecb-a58c-44e7-a886-adc28a3ee87e",
     "showTitle": false,
     "tableResultSettingsMap": {},
     "title": ""
    }
   },
   "source": [
    "GOLD 4: Product Sales"
   ]
  },
  {
   "cell_type": "code",
   "execution_count": 0,
   "metadata": {
    "application/vnd.databricks.v1+cell": {
     "cellMetadata": {
      "byteLimit": 2048000,
      "implicitDf": true,
      "rowLimit": 10000
     },
     "inputWidgets": {},
     "nuid": "d379540f-bfaf-4469-8759-ec9b3e1f9a0c",
     "showTitle": false,
     "tableResultSettingsMap": {},
     "title": ""
    }
   },
   "outputs": [],
   "source": [
    "%sql\n",
    "CREATE OR REPLACE TABLE production.gold.retail_product_sales AS\n",
    "SELECT\n",
    "  stock_code,\n",
    "  COALESCE(NULLIF(TRIM(description),''), 'UNKNOWN')  AS product_name,\n",
    "  SUM(quantity)                                      AS total_qty,\n",
    "  SUM(revenue)                                       AS total_revenue,\n",
    "  COUNT(DISTINCT customer_id)                        AS unique_customers\n",
    "FROM production.silver.v_retail_clean_typed\n",
    "GROUP BY stock_code, COALESCE(NULLIF(TRIM(description),''), 'UNKNOWN')\n",
    "ORDER BY total_revenue DESC;\n"
   ]
  },
  {
   "cell_type": "markdown",
   "metadata": {
    "application/vnd.databricks.v1+cell": {
     "cellMetadata": {},
     "inputWidgets": {},
     "nuid": "fb22ebd5-a11a-4b64-89b3-cd87120c0bd7",
     "showTitle": false,
     "tableResultSettingsMap": {},
     "title": ""
    }
   },
   "source": [
    "GOLD 5: Country Sales"
   ]
  },
  {
   "cell_type": "code",
   "execution_count": 0,
   "metadata": {
    "application/vnd.databricks.v1+cell": {
     "cellMetadata": {
      "byteLimit": 2048000,
      "implicitDf": true,
      "rowLimit": 10000
     },
     "inputWidgets": {},
     "nuid": "5fdd4f75-7015-46c7-8ccf-a2d9d81665c6",
     "showTitle": false,
     "tableResultSettingsMap": {},
     "title": ""
    }
   },
   "outputs": [],
   "source": [
    "%sql\n",
    "CREATE OR REPLACE TABLE production.gold.retail_country_sales AS\n",
    "SELECT\n",
    "  country,\n",
    "  SUM(revenue)                    AS total_revenue,\n",
    "  COUNT(DISTINCT customer_id)     AS customers,\n",
    "  COUNT(DISTINCT invoice_no)      AS orders\n",
    "FROM production.silver.v_retail_clean_typed\n",
    "GROUP BY country\n",
    "ORDER BY total_revenue DESC;\n"
   ]
  },
  {
   "cell_type": "markdown",
   "metadata": {
    "application/vnd.databricks.v1+cell": {
     "cellMetadata": {},
     "inputWidgets": {},
     "nuid": "515d66dd-bae7-46a8-a590-a29abe04bf8e",
     "showTitle": false,
     "tableResultSettingsMap": {},
     "title": ""
    }
   },
   "source": [
    "Business Questions"
   ]
  },
  {
   "cell_type": "markdown",
   "metadata": {
    "application/vnd.databricks.v1+cell": {
     "cellMetadata": {},
     "inputWidgets": {},
     "nuid": "9568bc24-b0c2-4172-b33a-0933f56d3c9e",
     "showTitle": false,
     "tableResultSettingsMap": {},
     "title": ""
    }
   },
   "source": [
    "Q1. Revenue trend (daily)"
   ]
  },
  {
   "cell_type": "code",
   "execution_count": 0,
   "metadata": {
    "application/vnd.databricks.v1+cell": {
     "cellMetadata": {
      "byteLimit": 2048000,
      "implicitDf": true,
      "rowLimit": 10000
     },
     "inputWidgets": {},
     "nuid": "a57c4ba8-9f89-415e-95f1-b782dbc7d61f",
     "showTitle": false,
     "tableResultSettingsMap": {},
     "title": ""
    }
   },
   "outputs": [
    {
     "output_type": "display_data",
     "data": {
      "text/plain": [
       "Databricks visualization. Run in Databricks to view."
      ]
     },
     "metadata": {
      "application/vnd.databricks.v1.subcommand+json": {
       "baseErrorDetails": null,
       "bindings": {},
       "collapsed": false,
       "command": "%sql WITH q AS (SELECT sales_date, revenue, orders, items_sold\nFROM production.gold.retail_daily_sales\nORDER BY sales_date) SELECT DATE_TRUNC('DAY',`sales_date`) `column_64d375ea259`,SUM(`revenue`) `column_64d375ea261` FROM q GROUP BY `column_64d375ea259`",
       "commandTitle": "Visualization 2",
       "commandType": "auto",
       "commandVersion": 0,
       "commentThread": [],
       "commentsVisible": false,
       "contentSha256Hex": null,
       "customPlotOptions": {
        "redashChart": [
         {
          "key": "type",
          "value": "CHART"
         },
         {
          "key": "options",
          "value": {
           "alignYAxesAtZero": true,
           "coefficient": 1,
           "columnConfigurationMap": {
            "x": {
             "column": "sales_date",
             "id": "column_64d375ea259",
             "transform": "DAY_LEVEL"
            },
            "y": [
             {
              "column": "revenue",
              "id": "column_64d375ea261",
              "transform": "SUM"
             }
            ]
           },
           "dateTimeFormat": "DD/MM/YYYY HH:mm",
           "direction": {
            "type": "counterclockwise"
           },
           "error_y": {
            "type": "data",
            "visible": true
           },
           "globalSeriesType": "line",
           "isAggregationOn": true,
           "legend": {
            "traceorder": "normal"
           },
           "missingValuesAsZero": true,
           "numberFormat": "0,0.[00000]",
           "percentFormat": "0[.]00%",
           "series": {
            "error_y": {
             "type": "data",
             "visible": true
            },
            "stacking": null
           },
           "seriesOptions": {
            "column_64d375ea261": {
             "type": "line",
             "yAxis": 0
            }
           },
           "showDataLabels": false,
           "sizemode": "diameter",
           "sortX": true,
           "sortY": true,
           "swappedAxes": false,
           "textFormat": "",
           "useAggregationsUi": true,
           "valuesOptions": {},
           "version": 2,
           "xAxis": {
            "labels": {
             "enabled": true
            },
            "type": "-"
           },
           "yAxis": [
            {
             "title": {
              "text": "Total revenue"
             },
             "type": "-"
            },
            {
             "opposite": true,
             "title": {
              "text": null
             },
             "type": "-"
            }
           ]
          }
         }
        ]
       },
       "datasetPreviewNameToCmdIdMap": {},
       "diffDeletes": [],
       "diffInserts": [],
       "displayType": "redashChart",
       "error": null,
       "errorDetails": null,
       "errorSummary": null,
       "errorTraceType": null,
       "finishTime": 0,
       "globalVars": {},
       "guid": "",
       "height": "auto",
       "hideCommandCode": false,
       "hideCommandResult": false,
       "iPythonMetadata": null,
       "inputWidgets": {},
       "isLockedInExamMode": false,
       "latestAssumeRoleInfo": null,
       "latestUser": "a user",
       "latestUserId": null,
       "listResultMetadata": null,
       "metadata": {},
       "nuid": "c24fbb21-64ed-4d6d-a1ed-dd3cf5ffccdf",
       "origId": 0,
       "parentHierarchy": [],
       "pivotAggregation": null,
       "pivotColumns": null,
       "position": 14.0,
       "resultDbfsErrorMessage": null,
       "resultDbfsStatus": "INLINED_IN_TREE",
       "results": null,
       "showCommandTitle": false,
       "startTime": 0,
       "state": "input",
       "streamStates": {},
       "subcommandOptions": {
        "queryPlan": {
         "groups": [
          {
           "column": "column_64d375ea259",
           "type": "column"
          }
         ],
         "selects": [
          {
           "alias": "column_64d375ea259",
           "args": [
            {
             "column": "sales_date",
             "type": "column"
            },
            {
             "string": "DAY",
             "type": "string"
            }
           ],
           "function": "DATE_TRUNC",
           "type": "function"
          },
          {
           "alias": "column_64d375ea261",
           "args": [
            {
             "column": "revenue",
             "type": "column"
            }
           ],
           "function": "SUM",
           "type": "function"
          }
         ]
        }
       },
       "submitTime": 0,
       "subtype": "tableResultSubCmd.visualization",
       "tableResultIndex": 0,
       "tableResultSettingsMap": {},
       "useConsistentColors": false,
       "version": "CommandV1",
       "width": "auto",
       "workflows": null,
       "xColumns": null,
       "yColumns": null
      }
     },
     "output_type": "display_data"
    },
    {
     "output_type": "display_data",
     "data": {
      "text/plain": [
       "Databricks visualization. Run in Databricks to view."
      ]
     },
     "metadata": {
      "application/vnd.databricks.v1.subcommand+json": {
       "baseErrorDetails": null,
       "bindings": {},
       "collapsed": false,
       "command": "%sql WITH q AS (SELECT sales_date, revenue, orders, items_sold\nFROM production.gold.retail_daily_sales\nORDER BY sales_date) SELECT DATE_TRUNC('MONTH',`sales_date`) `column_64d375ea242`,SUM(`revenue`) `column_64d375ea244` FROM q GROUP BY `column_64d375ea242`",
       "commandTitle": "Visualization 1",
       "commandType": "auto",
       "commandVersion": 0,
       "commentThread": [],
       "commentsVisible": false,
       "contentSha256Hex": null,
       "customPlotOptions": {
        "redashChart": [
         {
          "key": "type",
          "value": "CHART"
         },
         {
          "key": "options",
          "value": {
           "alignYAxesAtZero": true,
           "coefficient": 1,
           "columnConfigurationMap": {
            "x": {
             "column": "sales_date",
             "id": "column_64d375ea242",
             "transform": "MONTH_LEVEL"
            },
            "y": [
             {
              "column": "revenue",
              "id": "column_64d375ea244",
              "transform": "SUM"
             }
            ]
           },
           "dateTimeFormat": "DD/MM/YYYY HH:mm",
           "direction": {
            "type": "counterclockwise"
           },
           "error_y": {
            "type": "data",
            "visible": true
           },
           "globalSeriesType": "column",
           "hideYAxes": false,
           "isAggregationOn": true,
           "legend": {
            "traceorder": "normal"
           },
           "missingValuesAsZero": true,
           "numberFormat": "0,0.[00000]",
           "percentFormat": "0[.]00%",
           "series": {
            "error_y": {
             "type": "data",
             "visible": true
            },
            "percentValues": false,
            "stacking": null
           },
           "seriesOptions": {
            "column_64d375ea244": {
             "color": null,
             "type": "column",
             "yAxis": 0
            }
           },
           "showDataLabels": false,
           "sizemode": "diameter",
           "sortX": true,
           "sortY": true,
           "swappedAxes": false,
           "textFormat": "",
           "useAggregationsUi": true,
           "valuesOptions": {},
           "version": 2,
           "xAxis": {
            "labels": {
             "enabled": true
            },
            "type": "-"
           },
           "yAxis": [
            {
             "title": {
              "text": "Total Revenue"
             },
             "type": "-"
            },
            {
             "opposite": true,
             "type": "-"
            }
           ]
          }
         }
        ]
       },
       "datasetPreviewNameToCmdIdMap": {},
       "diffDeletes": [],
       "diffInserts": [],
       "displayType": "redashChart",
       "error": null,
       "errorDetails": null,
       "errorSummary": null,
       "errorTraceType": null,
       "finishTime": 0,
       "globalVars": {},
       "guid": "",
       "height": "auto",
       "hideCommandCode": false,
       "hideCommandResult": false,
       "iPythonMetadata": null,
       "inputWidgets": {},
       "isLockedInExamMode": false,
       "latestAssumeRoleInfo": null,
       "latestUser": "a user",
       "latestUserId": null,
       "listResultMetadata": null,
       "metadata": {},
       "nuid": "053f4aa4-acc0-4f1f-9772-9b163acd9bc9",
       "origId": 0,
       "parentHierarchy": [],
       "pivotAggregation": null,
       "pivotColumns": null,
       "position": 13.0,
       "resultDbfsErrorMessage": null,
       "resultDbfsStatus": "INLINED_IN_TREE",
       "results": null,
       "showCommandTitle": false,
       "startTime": 0,
       "state": "input",
       "streamStates": {},
       "subcommandOptions": {
        "queryPlan": {
         "groups": [
          {
           "column": "column_64d375ea242",
           "type": "column"
          }
         ],
         "selects": [
          {
           "alias": "column_64d375ea242",
           "args": [
            {
             "column": "sales_date",
             "type": "column"
            },
            {
             "string": "MONTH",
             "type": "string"
            }
           ],
           "function": "DATE_TRUNC",
           "type": "function"
          },
          {
           "alias": "column_64d375ea244",
           "args": [
            {
             "column": "revenue",
             "type": "column"
            }
           ],
           "function": "SUM",
           "type": "function"
          }
         ]
        }
       },
       "submitTime": 0,
       "subtype": "tableResultSubCmd.visualization",
       "tableResultIndex": 0,
       "tableResultSettingsMap": {},
       "useConsistentColors": false,
       "version": "CommandV1",
       "width": "auto",
       "workflows": null,
       "xColumns": null,
       "yColumns": null
      }
     },
     "output_type": "display_data"
    }
   ],
   "source": [
    "%sql\n",
    "SELECT sales_date, revenue, orders, items_sold\n",
    "FROM production.gold.retail_daily_sales\n",
    "ORDER BY sales_date;\n"
   ]
  },
  {
   "cell_type": "markdown",
   "metadata": {
    "application/vnd.databricks.v1+cell": {
     "cellMetadata": {},
     "inputWidgets": {},
     "nuid": "9a06eb46-01b5-49d9-8f08-8deedc7c78fb",
     "showTitle": false,
     "tableResultSettingsMap": {},
     "title": ""
    }
   },
   "source": [
    "Observation: Revenue fluctuates daily with visible spikes around November–December. Some dates show zero or negative sales, often tied to returns.\n",
    "Insight: Sales are seasonal, with holiday peaks driving a disproportionate share of revenue.\n",
    "Action: Plan inventory, staffing, and promotions to align with holiday peaks. Investigate zero-revenue days for operational gaps."
   ]
  },
  {
   "cell_type": "markdown",
   "metadata": {
    "application/vnd.databricks.v1+cell": {
     "cellMetadata": {},
     "inputWidgets": {},
     "nuid": "26f6417e-102b-4b51-9171-dff36f6d4866",
     "showTitle": false,
     "tableResultSettingsMap": {},
     "title": ""
    }
   },
   "source": []
  },
  {
   "cell_type": "markdown",
   "metadata": {
    "application/vnd.databricks.v1+cell": {
     "cellMetadata": {},
     "inputWidgets": {},
     "nuid": "cea03d2f-42ab-40f0-b978-c3f57aa1b05a",
     "showTitle": false,
     "tableResultSettingsMap": {},
     "title": ""
    }
   },
   "source": [
    "Q2. Revenue trend (monthly)\n"
   ]
  },
  {
   "cell_type": "code",
   "execution_count": 0,
   "metadata": {
    "application/vnd.databricks.v1+cell": {
     "cellMetadata": {
      "byteLimit": 2048000,
      "implicitDf": true,
      "rowLimit": 10000
     },
     "inputWidgets": {},
     "nuid": "8460d3ea-2142-4030-81c6-d439b9899413",
     "showTitle": false,
     "tableResultSettingsMap": {},
     "title": ""
    }
   },
   "outputs": [
    {
     "output_type": "display_data",
     "data": {
      "text/plain": [
       "Databricks visualization. Run in Databricks to view."
      ]
     },
     "metadata": {
      "application/vnd.databricks.v1.subcommand+json": {
       "baseErrorDetails": null,
       "bindings": {},
       "collapsed": false,
       "command": "%sql WITH q AS (SELECT month_start, revenue, orders, items_sold\nFROM production.gold.retail_monthly_sales\nORDER BY month_start) SELECT `month_start`,SUM(`revenue`) `column_64d375ea371` FROM q GROUP BY `month_start`",
       "commandTitle": "Area chart",
       "commandType": "auto",
       "commandVersion": 0,
       "commentThread": [],
       "commentsVisible": false,
       "contentSha256Hex": null,
       "customPlotOptions": {
        "redashChart": [
         {
          "key": "type",
          "value": "CHART"
         },
         {
          "key": "options",
          "value": {
           "alignYAxesAtZero": true,
           "coefficient": 1,
           "columnConfigurationMap": {
            "x": {
             "column": "month_start",
             "id": "column_64d375ea367"
            },
            "y": [
             {
              "column": "revenue",
              "id": "column_64d375ea371",
              "transform": "SUM"
             }
            ]
           },
           "dateTimeFormat": "DD/MM/YYYY HH:mm",
           "direction": {
            "type": "counterclockwise"
           },
           "error_y": {
            "type": "data",
            "visible": true
           },
           "globalSeriesType": "area",
           "isAggregationOn": true,
           "legend": {
            "traceorder": "normal"
           },
           "missingValuesAsZero": true,
           "numberFormat": "0,0.[00000]",
           "percentFormat": "0[.]00%",
           "series": {
            "error_y": {
             "type": "data",
             "visible": true
            },
            "stacking": null
           },
           "seriesOptions": {
            "column_64d375ea371": {
             "type": "area",
             "yAxis": 0
            },
            "column_64d375ea375": {
             "type": "area",
             "yAxis": 0
            }
           },
           "showDataLabels": false,
           "sizemode": "diameter",
           "sortX": true,
           "sortY": true,
           "swappedAxes": false,
           "textFormat": "",
           "useAggregationsUi": true,
           "valuesOptions": {},
           "version": 2,
           "xAxis": {
            "labels": {
             "enabled": true
            },
            "type": "-"
           },
           "yAxis": [
            {
             "type": "-"
            },
            {
             "opposite": true,
             "type": "-"
            }
           ]
          }
         }
        ]
       },
       "datasetPreviewNameToCmdIdMap": {},
       "diffDeletes": [],
       "diffInserts": [],
       "displayType": "redashChart",
       "error": null,
       "errorDetails": null,
       "errorSummary": null,
       "errorTraceType": null,
       "finishTime": 0,
       "globalVars": {},
       "guid": "",
       "height": "auto",
       "hideCommandCode": false,
       "hideCommandResult": false,
       "iPythonMetadata": null,
       "inputWidgets": {},
       "isLockedInExamMode": false,
       "latestAssumeRoleInfo": null,
       "latestUser": "a user",
       "latestUserId": null,
       "listResultMetadata": null,
       "metadata": {},
       "nuid": "9b72d507-5e0a-47f6-861c-bfbc33a56bf8",
       "origId": 0,
       "parentHierarchy": [],
       "pivotAggregation": null,
       "pivotColumns": null,
       "position": 14.0,
       "resultDbfsErrorMessage": null,
       "resultDbfsStatus": "INLINED_IN_TREE",
       "results": null,
       "showCommandTitle": false,
       "startTime": 0,
       "state": "input",
       "streamStates": {},
       "subcommandOptions": {
        "queryPlan": {
         "groups": [
          {
           "column": "month_start",
           "type": "column"
          }
         ],
         "selects": [
          {
           "column": "month_start",
           "type": "column"
          },
          {
           "alias": "column_64d375ea371",
           "args": [
            {
             "column": "revenue",
             "type": "column"
            }
           ],
           "function": "SUM",
           "type": "function"
          }
         ]
        }
       },
       "submitTime": 0,
       "subtype": "tableResultSubCmd.visualization",
       "tableResultIndex": 0,
       "tableResultSettingsMap": {},
       "useConsistentColors": false,
       "version": "CommandV1",
       "width": "auto",
       "workflows": null,
       "xColumns": null,
       "yColumns": null
      }
     },
     "output_type": "display_data"
    }
   ],
   "source": [
    "%sql\n",
    "SELECT month_start, revenue, orders, items_sold\n",
    "FROM production.gold.retail_monthly_sales\n",
    "ORDER BY month_start;\n"
   ]
  },
  {
   "cell_type": "markdown",
   "metadata": {
    "application/vnd.databricks.v1+cell": {
     "cellMetadata": {},
     "inputWidgets": {},
     "nuid": "e6f4f89b-e6b0-4d5f-89d6-ccfb7fc10d42",
     "showTitle": false,
     "tableResultSettingsMap": {},
     "title": ""
    }
   },
   "source": [
    "Observation: Clear monthly upward trend in late-year months, then a decline post-holidays.\n",
    "\n",
    "Insight: Business is seasonal; Q4 contributes the bulk of sales.\n",
    "\n",
    "Action: Front-load advertising and logistics planning into Q4. Smooth revenue in other months via promotions and bundles."
   ]
  },
  {
   "cell_type": "markdown",
   "metadata": {
    "application/vnd.databricks.v1+cell": {
     "cellMetadata": {},
     "inputWidgets": {},
     "nuid": "04a92bd2-f38b-4249-91a8-c7a60f17656b",
     "showTitle": false,
     "tableResultSettingsMap": {},
     "title": ""
    }
   },
   "source": [
    "Top products by revenue"
   ]
  },
  {
   "cell_type": "code",
   "execution_count": 0,
   "metadata": {
    "application/vnd.databricks.v1+cell": {
     "cellMetadata": {
      "byteLimit": 2048000,
      "implicitDf": true,
      "rowLimit": 10000
     },
     "inputWidgets": {},
     "nuid": "56066d15-2765-4e1f-9427-8fc27fc4011a",
     "showTitle": false,
     "tableResultSettingsMap": {
      "0": {
       "dataGridStateBlob": "{\"version\":1,\"tableState\":{\"columnPinning\":{\"left\":[\"#row_number#\"],\"right\":[]},\"columnSizing\":{},\"columnVisibility\":{}},\"settings\":{\"columns\":{}},\"syncTimestamp\":1758676235058}",
       "filterBlob": null,
       "queryPlanFiltersBlob": null,
       "tableResultIndex": 0
      }
     },
     "title": ""
    }
   },
   "outputs": [
    {
     "output_type": "display_data",
     "data": {
      "text/plain": [
       "Databricks visualization. Run in Databricks to view."
      ]
     },
     "metadata": {
      "application/vnd.databricks.v1.subcommand+json": {
       "baseErrorDetails": null,
       "bindings": {},
       "collapsed": false,
       "command": "%sql WITH q AS (SELECT stock_code, product_name, total_revenue, total_qty, unique_customers\nFROM production.gold.retail_product_sales\nORDER BY total_revenue DESC\nLIMIT 15) SELECT `product_name`,SUM(`total_revenue`) `column_64d375ea379` FROM q GROUP BY `product_name`",
       "commandTitle": "Visualization 1",
       "commandType": "auto",
       "commandVersion": 0,
       "commentThread": [],
       "commentsVisible": false,
       "contentSha256Hex": null,
       "customPlotOptions": {
        "redashChart": [
         {
          "key": "type",
          "value": "CHART"
         },
         {
          "key": "options",
          "value": {
           "alignYAxesAtZero": true,
           "coefficient": 1,
           "columnConfigurationMap": {
            "x": {
             "column": "product_name",
             "id": "column_64d375ea381"
            },
            "y": [
             {
              "column": "total_revenue",
              "id": "column_64d375ea379",
              "transform": "SUM"
             }
            ]
           },
           "dateTimeFormat": "DD/MM/YYYY HH:mm",
           "direction": {
            "type": "counterclockwise"
           },
           "error_y": {
            "type": "data",
            "visible": true
           },
           "globalSeriesType": "column",
           "isAggregationOn": true,
           "legend": {
            "traceorder": "normal"
           },
           "missingValuesAsZero": true,
           "numberFormat": "0,0.[00000]",
           "percentFormat": "0[.]00%",
           "series": {
            "error_y": {
             "type": "data",
             "visible": true
            },
            "stacking": "stack"
           },
           "seriesOptions": {
            "column_64d375ea379": {
             "type": "column",
             "yAxis": 0
            }
           },
           "showDataLabels": false,
           "sizemode": "diameter",
           "sortX": true,
           "sortY": true,
           "swappedAxes": false,
           "textFormat": "",
           "useAggregationsUi": true,
           "valuesOptions": {},
           "version": 2,
           "xAxis": {
            "labels": {
             "enabled": true
            },
            "type": "-"
           },
           "yAxis": [
            {
             "type": "-"
            },
            {
             "opposite": true,
             "type": "-"
            }
           ]
          }
         }
        ]
       },
       "datasetPreviewNameToCmdIdMap": {},
       "diffDeletes": [],
       "diffInserts": [],
       "displayType": "redashChart",
       "error": null,
       "errorDetails": null,
       "errorSummary": null,
       "errorTraceType": null,
       "finishTime": 0,
       "globalVars": {},
       "guid": "",
       "height": "auto",
       "hideCommandCode": false,
       "hideCommandResult": false,
       "iPythonMetadata": null,
       "inputWidgets": {},
       "isLockedInExamMode": false,
       "latestAssumeRoleInfo": null,
       "latestUser": "a user",
       "latestUserId": null,
       "listResultMetadata": null,
       "metadata": {},
       "nuid": "45a5c71f-77ea-4178-9426-e1f25cda3f89",
       "origId": 0,
       "parentHierarchy": [],
       "pivotAggregation": null,
       "pivotColumns": null,
       "position": 15.0,
       "resultDbfsErrorMessage": null,
       "resultDbfsStatus": "INLINED_IN_TREE",
       "results": null,
       "showCommandTitle": false,
       "startTime": 0,
       "state": "input",
       "streamStates": {},
       "subcommandOptions": {
        "queryPlan": {
         "groups": [
          {
           "column": "product_name",
           "type": "column"
          }
         ],
         "selects": [
          {
           "column": "product_name",
           "type": "column"
          },
          {
           "alias": "column_64d375ea379",
           "args": [
            {
             "column": "total_revenue",
             "type": "column"
            }
           ],
           "function": "SUM",
           "type": "function"
          }
         ]
        }
       },
       "submitTime": 0,
       "subtype": "tableResultSubCmd.visualization",
       "tableResultIndex": 0,
       "tableResultSettingsMap": {},
       "useConsistentColors": false,
       "version": "CommandV1",
       "width": "auto",
       "workflows": null,
       "xColumns": null,
       "yColumns": null
      }
     },
     "output_type": "display_data"
    }
   ],
   "source": [
    "%sql\n",
    "SELECT stock_code, product_name, total_revenue, total_qty, unique_customers\n",
    "FROM production.gold.retail_product_sales\n",
    "ORDER BY total_revenue DESC\n",
    "LIMIT 15;\n"
   ]
  },
  {
   "cell_type": "markdown",
   "metadata": {
    "application/vnd.databricks.v1+cell": {
     "cellMetadata": {},
     "inputWidgets": {},
     "nuid": "d268524a-d07c-491d-8972-3857532e1f07",
     "showTitle": false,
     "tableResultSettingsMap": {},
     "title": ""
    }
   },
   "source": [
    "Observation: A handful of SKUs (e.g., “Paper Craft Sets,” “Party Banners,” “Ceramic Mug”) account for >20% of total revenue.\n",
    "\n",
    "Insight: The catalog follows the 80/20 rule (Pareto principle).\n",
    "\n",
    "Action: Prioritize supply chain and marketing for top-selling SKUs. Negotiate bulk pricing with suppliers."
   ]
  },
  {
   "cell_type": "markdown",
   "metadata": {
    "application/vnd.databricks.v1+cell": {
     "cellMetadata": {},
     "inputWidgets": {},
     "nuid": "de9dc0c1-67ba-4870-963a-0ec2a97a41d9",
     "showTitle": false,
     "tableResultSettingsMap": {},
     "title": ""
    }
   },
   "source": [
    "Top customers & LTV"
   ]
  },
  {
   "cell_type": "code",
   "execution_count": 0,
   "metadata": {
    "application/vnd.databricks.v1+cell": {
     "cellMetadata": {
      "byteLimit": 2048000,
      "implicitDf": true,
      "rowLimit": 10000
     },
     "inputWidgets": {},
     "nuid": "701be42a-c9dd-4267-93b6-60ea486ad59a",
     "showTitle": false,
     "tableResultSettingsMap": {},
     "title": ""
    }
   },
   "outputs": [
    {
     "output_type": "display_data",
     "data": {
      "text/plain": [
       "Databricks visualization. Run in Databricks to view."
      ]
     },
     "metadata": {
      "application/vnd.databricks.v1.subcommand+json": {
       "baseErrorDetails": null,
       "bindings": {},
       "collapsed": false,
       "command": "%sql WITH q AS (SELECT customer_id, orders, total_spent, first_order_date, last_order_date\nFROM production.gold.retail_customer_ltv\nORDER BY total_spent DESC\nLIMIT 15) SELECT `customer_id`,SUM(`total_spent`) `column_64d375ea385` FROM q GROUP BY `customer_id`",
       "commandTitle": "Visualization 1",
       "commandType": "auto",
       "commandVersion": 0,
       "commentThread": [],
       "commentsVisible": false,
       "contentSha256Hex": null,
       "customPlotOptions": {
        "redashChart": [
         {
          "key": "type",
          "value": "CHART"
         },
         {
          "key": "options",
          "value": {
           "alignYAxesAtZero": true,
           "coefficient": 1,
           "columnConfigurationMap": {
            "x": {
             "column": "customer_id",
             "id": "column_64d375ea387"
            },
            "y": [
             {
              "column": "total_spent",
              "id": "column_64d375ea385",
              "transform": "SUM"
             }
            ]
           },
           "dateTimeFormat": "DD/MM/YYYY HH:mm",
           "direction": {
            "type": "counterclockwise"
           },
           "error_y": {
            "type": "data",
            "visible": true
           },
           "globalSeriesType": "column",
           "isAggregationOn": true,
           "legend": {
            "traceorder": "normal"
           },
           "missingValuesAsZero": true,
           "numberFormat": "0,0.[00000]",
           "percentFormat": "0[.]00%",
           "series": {
            "error_y": {
             "type": "data",
             "visible": true
            },
            "stacking": null
           },
           "seriesOptions": {
            "column_64d375ea385": {
             "type": "column",
             "yAxis": 0
            }
           },
           "showDataLabels": false,
           "sizemode": "diameter",
           "sortX": true,
           "sortY": true,
           "swappedAxes": false,
           "textFormat": "",
           "useAggregationsUi": true,
           "valuesOptions": {},
           "version": 2,
           "xAxis": {
            "labels": {
             "enabled": true
            },
            "type": "-"
           },
           "yAxis": [
            {
             "title": {
              "text": "total_spent"
             },
             "type": "-"
            },
            {
             "opposite": true,
             "type": "-"
            }
           ]
          }
         }
        ]
       },
       "datasetPreviewNameToCmdIdMap": {},
       "diffDeletes": [],
       "diffInserts": [],
       "displayType": "redashChart",
       "error": null,
       "errorDetails": null,
       "errorSummary": null,
       "errorTraceType": null,
       "finishTime": 0,
       "globalVars": {},
       "guid": "",
       "height": "auto",
       "hideCommandCode": false,
       "hideCommandResult": false,
       "iPythonMetadata": null,
       "inputWidgets": {},
       "isLockedInExamMode": false,
       "latestAssumeRoleInfo": null,
       "latestUser": "a user",
       "latestUserId": null,
       "listResultMetadata": null,
       "metadata": {},
       "nuid": "e803d7b6-bddc-4b50-a04f-2f9eb4c92f2c",
       "origId": 0,
       "parentHierarchy": [],
       "pivotAggregation": null,
       "pivotColumns": null,
       "position": 17.0,
       "resultDbfsErrorMessage": null,
       "resultDbfsStatus": "INLINED_IN_TREE",
       "results": null,
       "showCommandTitle": false,
       "startTime": 0,
       "state": "input",
       "streamStates": {},
       "subcommandOptions": {
        "queryPlan": {
         "groups": [
          {
           "column": "customer_id",
           "type": "column"
          }
         ],
         "selects": [
          {
           "column": "customer_id",
           "type": "column"
          },
          {
           "alias": "column_64d375ea385",
           "args": [
            {
             "column": "total_spent",
             "type": "column"
            }
           ],
           "function": "SUM",
           "type": "function"
          }
         ]
        }
       },
       "submitTime": 0,
       "subtype": "tableResultSubCmd.visualization",
       "tableResultIndex": 0,
       "tableResultSettingsMap": {},
       "useConsistentColors": false,
       "version": "CommandV1",
       "width": "auto",
       "workflows": null,
       "xColumns": null,
       "yColumns": null
      }
     },
     "output_type": "display_data"
    }
   ],
   "source": [
    "%sql\n",
    "SELECT customer_id, orders, total_spent, first_order_date, last_order_date\n",
    "FROM production.gold.retail_customer_ltv\n",
    "ORDER BY total_spent DESC\n",
    "LIMIT 15;\n"
   ]
  },
  {
   "cell_type": "markdown",
   "metadata": {
    "application/vnd.databricks.v1+cell": {
     "cellMetadata": {},
     "inputWidgets": {},
     "nuid": "aa4381ef-5aae-443d-9668-12312c82bb45",
     "showTitle": false,
     "tableResultSettingsMap": {},
     "title": ""
    }
   },
   "source": [
    "Observation: The top 10 customers spend 10–15x more than the average. Some accounts have hundreds of orders.\n",
    "\n",
    "Insight: Revenue is concentrated in a small but powerful customer base.\n",
    "\n",
    "Action: Launch loyalty/VIP programs to retain high-value customers. Assign account managers for top 1%."
   ]
  },
  {
   "cell_type": "markdown",
   "metadata": {
    "application/vnd.databricks.v1+cell": {
     "cellMetadata": {},
     "inputWidgets": {},
     "nuid": "4c68c225-124c-456b-b660-d8e365a4978f",
     "showTitle": false,
     "tableResultSettingsMap": {},
     "title": ""
    }
   },
   "source": [
    "Repeat-customer rate (KPI)"
   ]
  },
  {
   "cell_type": "code",
   "execution_count": 0,
   "metadata": {
    "application/vnd.databricks.v1+cell": {
     "cellMetadata": {
      "byteLimit": 2048000,
      "implicitDf": true,
      "rowLimit": 10000
     },
     "inputWidgets": {},
     "nuid": "93313c2b-f912-43e3-ab87-33f11cbd135c",
     "showTitle": false,
     "tableResultSettingsMap": {},
     "title": ""
    }
   },
   "outputs": [],
   "source": [
    "%sql\n",
    "SELECT\n",
    "  ROUND(100.0 * SUM(CASE WHEN orders > 1 THEN 1 ELSE 0 END) / COUNT(*), 2) AS repeat_customer_pct\n",
    "FROM production.gold.retail_customer_ltv;\n"
   ]
  },
  {
   "cell_type": "markdown",
   "metadata": {
    "application/vnd.databricks.v1+cell": {
     "cellMetadata": {},
     "inputWidgets": {},
     "nuid": "b9c8048e-fec7-4d70-88ee-76a4ed371843",
     "showTitle": false,
     "tableResultSettingsMap": {},
     "title": ""
    }
   },
   "source": [
    "Observation: Roughly 65.58% of customers placed more than one order.\n",
    "Insight: Decent retention, but majority are one-time buyers.\n",
    "Action: Implement post-purchase reactivation campaigns (emails, coupons, product recommendations)."
   ]
  },
  {
   "cell_type": "markdown",
   "metadata": {
    "application/vnd.databricks.v1+cell": {
     "cellMetadata": {},
     "inputWidgets": {},
     "nuid": "9395b936-47bd-44d0-9389-12a81db61b93",
     "showTitle": false,
     "tableResultSettingsMap": {},
     "title": ""
    }
   },
   "source": [
    "Average Order Value (AOV)"
   ]
  },
  {
   "cell_type": "code",
   "execution_count": 0,
   "metadata": {
    "application/vnd.databricks.v1+cell": {
     "cellMetadata": {
      "byteLimit": 2048000,
      "implicitDf": true,
      "rowLimit": 10000
     },
     "inputWidgets": {},
     "nuid": "70d2d877-6745-4026-b6bd-710633cd13ae",
     "showTitle": false,
     "tableResultSettingsMap": {},
     "title": ""
    }
   },
   "outputs": [
    {
     "output_type": "display_data",
     "data": {
      "text/plain": [
       "Databricks visualization. Run in Databricks to view."
      ]
     },
     "metadata": {
      "application/vnd.databricks.v1.subcommand+json": {
       "baseErrorDetails": null,
       "bindings": {},
       "collapsed": false,
       "command": "%sql WITH q AS (WITH cust_orders AS (\n  SELECT invoice_no, SUM(revenue) AS order_value,\n         DATE_TRUNC('month', MIN(invoice_date)) AS month_bucket\n  FROM production.silver.v_retail_clean_typed\n  GROUP BY invoice_no\n)\nSELECT month_bucket, ROUND(AVG(order_value),2) AS aov_monthly\nFROM cust_orders\nGROUP BY month_bucket\nORDER BY month_bucket) SELECT `month_bucket`,SUM(`aov_monthly`) `column_64d375ea390` FROM q GROUP BY `month_bucket`",
       "commandTitle": "Visualization 1",
       "commandType": "auto",
       "commandVersion": 0,
       "commentThread": [],
       "commentsVisible": false,
       "contentSha256Hex": null,
       "customPlotOptions": {
        "redashChart": [
         {
          "key": "type",
          "value": "CHART"
         },
         {
          "key": "options",
          "value": {
           "alignYAxesAtZero": true,
           "coefficient": 1,
           "columnConfigurationMap": {
            "x": {
             "column": "month_bucket",
             "id": "column_64d375ea389"
            },
            "y": [
             {
              "column": "aov_monthly",
              "id": "column_64d375ea390",
              "transform": "SUM"
             }
            ]
           },
           "dateTimeFormat": "DD/MM/YYYY HH:mm",
           "direction": {
            "type": "counterclockwise"
           },
           "error_y": {
            "type": "data",
            "visible": true
           },
           "globalSeriesType": "line",
           "legend": {
            "traceorder": "normal"
           },
           "missingValuesAsZero": true,
           "numberFormat": "0,0.[00000]",
           "percentFormat": "0[.]00%",
           "series": {
            "error_y": {
             "type": "data",
             "visible": true
            },
            "stacking": null
           },
           "seriesOptions": {
            "column_64d375ea390": {
             "name": "aov_monthly",
             "yAxis": 0
            }
           },
           "showDataLabels": false,
           "sizemode": "diameter",
           "sortX": true,
           "sortY": true,
           "swappedAxes": false,
           "textFormat": "",
           "useAggregationsUi": true,
           "valuesOptions": {},
           "version": 2,
           "xAxis": {
            "labels": {
             "enabled": true
            },
            "type": "-"
           },
           "yAxis": [
            {
             "type": "-"
            },
            {
             "opposite": true,
             "type": "-"
            }
           ]
          }
         }
        ]
       },
       "datasetPreviewNameToCmdIdMap": {},
       "diffDeletes": [],
       "diffInserts": [],
       "displayType": "redashChart",
       "error": null,
       "errorDetails": null,
       "errorSummary": null,
       "errorTraceType": null,
       "finishTime": 0,
       "globalVars": {},
       "guid": "",
       "height": "auto",
       "hideCommandCode": false,
       "hideCommandResult": false,
       "iPythonMetadata": null,
       "inputWidgets": {},
       "isLockedInExamMode": false,
       "latestAssumeRoleInfo": null,
       "latestUser": "a user",
       "latestUserId": null,
       "listResultMetadata": null,
       "metadata": {},
       "nuid": "db89ada6-71bd-44ee-80a7-009b49b1ce17",
       "origId": 0,
       "parentHierarchy": [],
       "pivotAggregation": null,
       "pivotColumns": null,
       "position": 19.0,
       "resultDbfsErrorMessage": null,
       "resultDbfsStatus": "INLINED_IN_TREE",
       "results": null,
       "showCommandTitle": false,
       "startTime": 0,
       "state": "input",
       "streamStates": {},
       "subcommandOptions": {
        "queryPlan": {
         "groups": [
          {
           "column": "month_bucket",
           "type": "column"
          }
         ],
         "selects": [
          {
           "column": "month_bucket",
           "type": "column"
          },
          {
           "alias": "column_64d375ea390",
           "args": [
            {
             "column": "aov_monthly",
             "type": "column"
            }
           ],
           "function": "SUM",
           "type": "function"
          }
         ]
        }
       },
       "submitTime": 0,
       "subtype": "tableResultSubCmd.visualization",
       "tableResultIndex": 0,
       "tableResultSettingsMap": {},
       "useConsistentColors": false,
       "version": "CommandV1",
       "width": "auto",
       "workflows": null,
       "xColumns": null,
       "yColumns": null
      }
     },
     "output_type": "display_data"
    }
   ],
   "source": [
    "%sql\n",
    "-- AOV overall and by month\n",
    "WITH cust_orders AS (\n",
    "  SELECT invoice_no, SUM(revenue) AS order_value,\n",
    "         DATE_TRUNC('month', MIN(invoice_date)) AS month_bucket\n",
    "  FROM production.silver.v_retail_clean_typed\n",
    "  GROUP BY invoice_no\n",
    ")\n",
    "SELECT \n",
    "  ROUND(AVG(order_value),2) AS aov_overall\n",
    "FROM cust_orders;\n",
    "\n",
    "\n",
    "WITH cust_orders AS (\n",
    "  SELECT invoice_no, SUM(revenue) AS order_value,\n",
    "         DATE_TRUNC('month', MIN(invoice_date)) AS month_bucket\n",
    "  FROM production.silver.v_retail_clean_typed\n",
    "  GROUP BY invoice_no\n",
    ")\n",
    "SELECT month_bucket, ROUND(AVG(order_value),2) AS aov_monthly\n",
    "FROM cust_orders\n",
    "GROUP BY month_bucket\n",
    "ORDER BY month_bucket;\n"
   ]
  },
  {
   "cell_type": "markdown",
   "metadata": {
    "application/vnd.databricks.v1+cell": {
     "cellMetadata": {},
     "inputWidgets": {},
     "nuid": "44243825-de46-4181-ba70-9f78190adafb",
     "showTitle": false,
     "tableResultSettingsMap": {},
     "title": ""
    }
   },
   "source": [
    "Observation: Average basket size is around £400–£650 (varies monthly).\n",
    "Insight: Customers are buying in bulk (possibly B2B wholesalers).\n",
    "Action: Incentivize larger orders by offering free shipping or discounts slightly above current AOV threshold."
   ]
  },
  {
   "cell_type": "markdown",
   "metadata": {
    "application/vnd.databricks.v1+cell": {
     "cellMetadata": {},
     "inputWidgets": {},
     "nuid": "db6790b2-d9ed-4946-8ff5-d3e62c2bbff9",
     "showTitle": false,
     "tableResultSettingsMap": {},
     "title": ""
    }
   },
   "source": [
    "Country revenue & customers"
   ]
  },
  {
   "cell_type": "code",
   "execution_count": 0,
   "metadata": {
    "application/vnd.databricks.v1+cell": {
     "cellMetadata": {
      "byteLimit": 2048000,
      "implicitDf": true,
      "rowLimit": 10000
     },
     "inputWidgets": {},
     "nuid": "7a67643c-da46-4c86-805a-a19d4b772adc",
     "showTitle": false,
     "tableResultSettingsMap": {},
     "title": ""
    }
   },
   "outputs": [
    {
     "output_type": "display_data",
     "data": {
      "text/plain": [
       "Databricks visualization. Run in Databricks to view."
      ]
     },
     "metadata": {
      "application/vnd.databricks.v1.subcommand+json": {
       "baseErrorDetails": null,
       "bindings": {},
       "collapsed": false,
       "command": "%sql\nSELECT country, total_revenue, customers, orders\nFROM production.gold.retail_country_sales\nORDER BY total_revenue DESC\nLIMIT 15;\n",
       "commandTitle": "Visualization 1",
       "commandType": "auto",
       "commandVersion": 0,
       "commentThread": [],
       "commentsVisible": false,
       "contentSha256Hex": null,
       "customPlotOptions": {
        "redashChart": [
         {
          "key": "type",
          "value": "CHOROPLETH"
         },
         {
          "key": "options",
          "value": {
           "clusteringMode": "e",
           "colors": {
            "background": "#FFFFFF",
            "borders": "#000000",
            "max": "#FB8D3D",
            "min": "#356AFF",
            "noValue": "#3BD973"
           },
           "keyColumn": "country",
           "legend": {
            "alignText": "right",
            "position": "bottom-left",
            "visible": true
           },
           "mapType": "countries",
           "noValuePlaceholder": "N/A",
           "popup": {
            "enabled": true,
            "template": "Region: <b>{{ @@name }}</b>\n<br>\nValue: <b>{{ @@value }}</b>"
           },
           "steps": 5,
           "targetField": "name_long",
           "tooltip": {
            "enabled": true,
            "template": "<b>{{ @@name }}</b>: {{ @@value }}"
           },
           "valueColumn": "total_revenue",
           "valueFormat": "0,0.00"
          }
         }
        ]
       },
       "datasetPreviewNameToCmdIdMap": {},
       "diffDeletes": [],
       "diffInserts": [],
       "displayType": "redashChart",
       "error": null,
       "errorDetails": null,
       "errorSummary": null,
       "errorTraceType": null,
       "finishTime": 0,
       "globalVars": {},
       "guid": "",
       "height": "auto",
       "hideCommandCode": false,
       "hideCommandResult": false,
       "iPythonMetadata": null,
       "inputWidgets": {},
       "isLockedInExamMode": false,
       "latestAssumeRoleInfo": null,
       "latestUser": "a user",
       "latestUserId": null,
       "listResultMetadata": null,
       "metadata": {},
       "nuid": "d9296f41-3175-4bee-8d0a-7f5a6c00c428",
       "origId": 0,
       "parentHierarchy": [],
       "pivotAggregation": null,
       "pivotColumns": null,
       "position": 21.0,
       "resultDbfsErrorMessage": null,
       "resultDbfsStatus": "INLINED_IN_TREE",
       "results": null,
       "showCommandTitle": false,
       "startTime": 0,
       "state": "input",
       "streamStates": {},
       "subcommandOptions": {},
       "submitTime": 0,
       "subtype": "tableResultSubCmd.visualization",
       "tableResultIndex": 0,
       "tableResultSettingsMap": {},
       "useConsistentColors": false,
       "version": "CommandV1",
       "width": "auto",
       "workflows": null,
       "xColumns": null,
       "yColumns": null
      }
     },
     "output_type": "display_data"
    }
   ],
   "source": [
    "%sql\n",
    "SELECT country, total_revenue, customers, orders\n",
    "FROM production.gold.retail_country_sales\n",
    "ORDER BY total_revenue DESC\n",
    "LIMIT 15;\n"
   ]
  },
  {
   "cell_type": "markdown",
   "metadata": {
    "application/vnd.databricks.v1+cell": {
     "cellMetadata": {},
     "inputWidgets": {},
     "nuid": "0940ec9b-190d-428a-9662-bf651f865f7d",
     "showTitle": false,
     "tableResultSettingsMap": {},
     "title": ""
    }
   },
   "source": [
    "Observation: United Kingdom dominates revenue (>80%), with smaller contributions from Netherlands, Germany, France, etc.\n",
    "\n",
    "Insight: The business is UK-centric with limited international penetration.\n",
    "\n",
    "Action: Expand into EU markets with localized marketing. Investigate shipping/logistics partnerships."
   ]
  },
  {
   "cell_type": "markdown",
   "metadata": {
    "application/vnd.databricks.v1+cell": {
     "cellMetadata": {},
     "inputWidgets": {},
     "nuid": "1a8f1508-38b2-42dc-a26e-a60934bd11ee",
     "showTitle": false,
     "tableResultSettingsMap": {},
     "title": ""
    }
   },
   "source": [
    "Churn (silent customers)"
   ]
  },
  {
   "cell_type": "code",
   "execution_count": 0,
   "metadata": {
    "application/vnd.databricks.v1+cell": {
     "cellMetadata": {
      "byteLimit": 2048000,
      "implicitDf": true,
      "rowLimit": 10000
     },
     "inputWidgets": {},
     "nuid": "611820f8-611a-4a6e-8fa6-7e87426b0e95",
     "showTitle": false,
     "tableResultSettingsMap": {},
     "title": ""
    }
   },
   "outputs": [],
   "source": [
    "%sql\n",
    "-- Define \"silent\" as no purchases in the last N days of dataset (e.g., 90)\n",
    "WITH bounds AS (\n",
    "  SELECT MAX(invoice_date) AS max_d FROM production.silver.v_retail_clean_typed\n",
    "),\n",
    "flag AS (\n",
    "  SELECT l.*,\n",
    "         CASE WHEN DATEDIFF((SELECT max_d FROM bounds), last_order_date) >= 90 THEN 1 ELSE 0 END AS is_silent_90d\n",
    "  FROM production.gold.retail_customer_ltv l\n",
    ")\n",
    "SELECT \n",
    "  SUM(is_silent_90d) AS silent_customers_90d,\n",
    "  COUNT(*)           AS total_customers,\n",
    "  ROUND(100.0 * SUM(is_silent_90d) / COUNT(*), 2) AS silent_pct_90d\n",
    "FROM flag;\n"
   ]
  },
  {
   "cell_type": "markdown",
   "metadata": {
    "application/vnd.databricks.v1+cell": {
     "cellMetadata": {},
     "inputWidgets": {},
     "nuid": "ac72d317-6054-467d-ad00-10080824a590",
     "showTitle": false,
     "tableResultSettingsMap": {},
     "title": ""
    }
   },
   "source": [
    "Observation: About 33% of customers went silent after their first order, with no repeat activity in 90 days.\n",
    "Insight: Churn is high, hurting long-term revenue.\n",
    "Action: Launch win-back campaigns for silent customers (discount codes, targeted offers)."
   ]
  },
  {
   "cell_type": "markdown",
   "metadata": {
    "application/vnd.databricks.v1+cell": {
     "cellMetadata": {},
     "inputWidgets": {},
     "nuid": "67a87678-4995-4ee1-8809-c52c1c2e9593",
     "showTitle": false,
     "tableResultSettingsMap": {},
     "title": ""
    }
   },
   "source": [
    "Refunds/returns impact (use Bronze to catch negatives)"
   ]
  },
  {
   "cell_type": "code",
   "execution_count": 0,
   "metadata": {
    "application/vnd.databricks.v1+cell": {
     "cellMetadata": {
      "byteLimit": 2048000,
      "implicitDf": true,
      "rowLimit": 10000
     },
     "inputWidgets": {},
     "nuid": "e5425016-44a1-4d12-8b53-801d80958bcd",
     "showTitle": false,
     "tableResultSettingsMap": {},
     "title": ""
    }
   },
   "outputs": [
    {
     "output_type": "display_data",
     "data": {
      "text/plain": [
       "Databricks visualization. Run in Databricks to view."
      ]
     },
     "metadata": {
      "application/vnd.databricks.v1.subcommand+json": {
       "baseErrorDetails": null,
       "bindings": {},
       "collapsed": false,
       "command": "%sql\nWITH typed AS (\n  SELECT\n    CAST(InvoiceNo AS STRING)         AS invoice_no,\n    CAST(Quantity AS INT)             AS quantity,\n    COALESCE(TRY_TO_TIMESTAMP(InvoiceDate,'M/d/yyyy H:mm'),\n             TRY_TO_TIMESTAMP(InvoiceDate)) AS invoice_ts,\n    CAST(UnitPrice AS DECIMAL(10,2))  AS unit_price\n  FROM production.bronze.retail_ecommerce_raw\n),\ncalc AS (\n  SELECT\n    invoice_no,\n    quantity,\n    unit_price,\n    quantity * unit_price AS line_amount\n  FROM typed\n)\nSELECT\n  SUM(CASE WHEN quantity < 0 THEN line_amount ELSE 0 END)        AS refunds_amount,     -- negative\n  SUM(CASE WHEN quantity >= 0 THEN line_amount ELSE 0 END)       AS sales_amount,\n  ROUND(100.0 * ABS(SUM(CASE WHEN quantity < 0 THEN line_amount ELSE 0 END)) \n        / NULLIF(SUM(CASE WHEN quantity >= 0 THEN line_amount ELSE 0 END),0), 2)        AS refunds_pct_of_sales\nFROM calc;\n",
       "commandTitle": "Visualization 1",
       "commandType": "auto",
       "commandVersion": 0,
       "commentThread": [],
       "commentsVisible": false,
       "contentSha256Hex": null,
       "customPlotOptions": {
        "redashChart": [
         {
          "key": "type",
          "value": "DETAILS"
         },
         {
          "key": "options",
          "value": {
           "columns": [
            {
             "name": "refunds_amount",
             "title": "refunds_amount",
             "type": "float"
            },
            {
             "name": "sales_amount",
             "title": "sales_amount",
             "type": "float"
            },
            {
             "name": "refunds_pct_of_sales",
             "title": "refunds_pct_of_sales",
             "type": "float"
            }
           ],
           "version": 1
          }
         }
        ]
       },
       "datasetPreviewNameToCmdIdMap": {},
       "diffDeletes": [],
       "diffInserts": [],
       "displayType": "redashChart",
       "error": null,
       "errorDetails": null,
       "errorSummary": null,
       "errorTraceType": null,
       "finishTime": 0,
       "globalVars": {},
       "guid": "",
       "height": "auto",
       "hideCommandCode": false,
       "hideCommandResult": false,
       "iPythonMetadata": null,
       "inputWidgets": {},
       "isLockedInExamMode": false,
       "latestAssumeRoleInfo": null,
       "latestUser": "a user",
       "latestUserId": null,
       "listResultMetadata": null,
       "metadata": {},
       "nuid": "dc127117-97e2-44b1-ac0c-39bbc796e2de",
       "origId": 0,
       "parentHierarchy": [],
       "pivotAggregation": null,
       "pivotColumns": null,
       "position": 24.0,
       "resultDbfsErrorMessage": null,
       "resultDbfsStatus": "INLINED_IN_TREE",
       "results": null,
       "showCommandTitle": false,
       "startTime": 0,
       "state": "input",
       "streamStates": {},
       "subcommandOptions": {},
       "submitTime": 0,
       "subtype": "tableResultSubCmd.visualization",
       "tableResultIndex": 0,
       "tableResultSettingsMap": {},
       "useConsistentColors": false,
       "version": "CommandV1",
       "width": "auto",
       "workflows": null,
       "xColumns": null,
       "yColumns": null
      }
     },
     "output_type": "display_data"
    }
   ],
   "source": [
    "%sql\n",
    "WITH typed AS (\n",
    "  SELECT\n",
    "    CAST(InvoiceNo AS STRING)         AS invoice_no,\n",
    "    CAST(Quantity AS INT)             AS quantity,\n",
    "    COALESCE(TRY_TO_TIMESTAMP(InvoiceDate,'M/d/yyyy H:mm'),\n",
    "             TRY_TO_TIMESTAMP(InvoiceDate)) AS invoice_ts,\n",
    "    CAST(UnitPrice AS DECIMAL(10,2))  AS unit_price\n",
    "  FROM production.bronze.retail_ecommerce_raw\n",
    "),\n",
    "calc AS (\n",
    "  SELECT\n",
    "    invoice_no,\n",
    "    quantity,\n",
    "    unit_price,\n",
    "    quantity * unit_price AS line_amount\n",
    "  FROM typed\n",
    ")\n",
    "SELECT\n",
    "  SUM(CASE WHEN quantity < 0 THEN line_amount ELSE 0 END)        AS refunds_amount,     -- negative\n",
    "  SUM(CASE WHEN quantity >= 0 THEN line_amount ELSE 0 END)       AS sales_amount,\n",
    "  ROUND(100.0 * ABS(SUM(CASE WHEN quantity < 0 THEN line_amount ELSE 0 END)) \n",
    "        / NULLIF(SUM(CASE WHEN quantity >= 0 THEN line_amount ELSE 0 END),0), 2)        AS refunds_pct_of_sales\n",
    "FROM calc;\n"
   ]
  },
  {
   "cell_type": "markdown",
   "metadata": {
    "application/vnd.databricks.v1+cell": {
     "cellMetadata": {},
     "inputWidgets": {},
     "nuid": "9727f417-4883-4cef-89c4-bfd52736bd94",
     "showTitle": false,
     "tableResultSettingsMap": {},
     "title": ""
    }
   },
   "source": [
    "Observation: Returns/refunds make up about 9% of gross sales (via negative quantities).\n",
    "\n",
    "Insight: Return rates are significant, cutting into profitability.\n",
    "\n",
    "Action: Audit top-returned SKUs; improve product descriptions, packaging, and quality control."
   ]
  },
  {
   "cell_type": "markdown",
   "metadata": {
    "application/vnd.databricks.v1+cell": {
     "cellMetadata": {},
     "inputWidgets": {},
     "nuid": "52458e30-8d03-48dd-b681-a048dd313f53",
     "showTitle": false,
     "tableResultSettingsMap": {},
     "title": ""
    }
   },
   "source": [
    "Customer revenue tiers (80/20 lens)"
   ]
  },
  {
   "cell_type": "code",
   "execution_count": 0,
   "metadata": {
    "application/vnd.databricks.v1+cell": {
     "cellMetadata": {
      "byteLimit": 2048000,
      "implicitDf": true,
      "rowLimit": 10000
     },
     "inputWidgets": {},
     "nuid": "3134bdee-9471-4ceb-a772-1ba8d98e6f1a",
     "showTitle": false,
     "tableResultSettingsMap": {},
     "title": ""
    }
   },
   "outputs": [],
   "source": [
    "%sql\n",
    "WITH ranked AS (\n",
    "  SELECT\n",
    "    customer_id,\n",
    "    total_spent,\n",
    "    NTILE(10) OVER (ORDER BY total_spent DESC) AS decile -- D1 = top 10%\n",
    "  FROM production.gold.retail_customer_ltv\n",
    ")\n",
    "SELECT \n",
    "  decile,\n",
    "  COUNT(*)                               AS customers,\n",
    "  ROUND(SUM(total_spent),2)              AS revenue,\n",
    "  ROUND(100.0 * SUM(total_spent) / SUM(SUM(total_spent)) OVER (), 2) AS pct_of_total\n",
    "FROM ranked\n",
    "GROUP BY decile\n",
    "ORDER BY decile;\n"
   ]
  },
  {
   "cell_type": "markdown",
   "metadata": {
    "application/vnd.databricks.v1+cell": {
     "cellMetadata": {},
     "inputWidgets": {},
     "nuid": "30268263-74f7-46aa-a950-a6280dbab369",
     "showTitle": false,
     "tableResultSettingsMap": {},
     "title": ""
    }
   },
   "source": [
    "Observation: Top 10% of customers contribute 50–60% of revenue. Bottom 50% of customers contribute <10%.\n",
    "\n",
    "Insight: Classic Pareto distribution — business depends heavily on elite customers.\n",
    "\n",
    "Action: Prioritize retention of top deciles, while experimenting with cost-effective ways to grow mid/low-value customers."
   ]
  },
  {
   "cell_type": "markdown",
   "metadata": {
    "application/vnd.databricks.v1+cell": {
     "cellMetadata": {},
     "inputWidgets": {},
     "nuid": "f4ab7422-54af-4c5a-8875-13e0c4cd6b38",
     "showTitle": false,
     "tableResultSettingsMap": {},
     "title": ""
    }
   },
   "source": [
    "Product affinity (bought-together)"
   ]
  },
  {
   "cell_type": "code",
   "execution_count": 0,
   "metadata": {
    "application/vnd.databricks.v1+cell": {
     "cellMetadata": {
      "byteLimit": 2048000,
      "implicitDf": true,
      "rowLimit": 10000
     },
     "inputWidgets": {},
     "nuid": "a6af704e-123d-4f2e-920a-f937d6ee8106",
     "showTitle": false,
     "tableResultSettingsMap": {},
     "title": ""
    }
   },
   "outputs": [
    {
     "output_type": "display_data",
     "data": {
      "text/plain": [
       "Databricks visualization. Run in Databricks to view."
      ]
     },
     "metadata": {
      "application/vnd.databricks.v1.subcommand+json": {
       "baseErrorDetails": null,
       "bindings": {},
       "collapsed": false,
       "command": "%sql WITH q AS (WITH base AS (\n  SELECT DISTINCT invoice_no, stock_code\n  FROM production.silver.v_retail_clean_typed\n),\npairs AS (\n  SELECT a.stock_code AS sku_a, b.stock_code AS sku_b, COUNT(*) AS together\n  FROM base a\n  JOIN base b\n    ON a.invoice_no = b.invoice_no\n   AND a.stock_code < b.stock_code\n  GROUP BY a.stock_code, b.stock_code\n)\nSELECT *\nFROM pairs\nWHERE together >= 20            \nORDER BY together DESC\nLIMIT 25) SELECT `sku_a`,`sku_b`,SUM(`together`) `column_64d375ea415` FROM q GROUP BY `sku_a`,`sku_b`",
       "commandTitle": "Visualization 1",
       "commandType": "auto",
       "commandVersion": 0,
       "commentThread": [],
       "commentsVisible": false,
       "contentSha256Hex": null,
       "customPlotOptions": {
        "redashChart": [
         {
          "key": "type",
          "value": "CHART"
         },
         {
          "key": "options",
          "value": {
           "alignYAxesAtZero": true,
           "coefficient": 1,
           "columnConfigurationMap": {
            "x": {
             "column": "sku_a",
             "id": "column_64d375ea409"
            },
            "y": [
             {
              "column": "sku_b",
              "id": "column_64d375ea413"
             }
            ],
            "zVal": {
             "column": "together",
             "id": "column_64d375ea415",
             "transform": "SUM"
            }
           },
           "dateTimeFormat": "DD/MM/YYYY HH:mm",
           "direction": {
            "type": "counterclockwise"
           },
           "error_y": {
            "type": "data",
            "visible": true
           },
           "globalSeriesType": "heatmap",
           "isAggregationOn": true,
           "legend": {
            "traceorder": "normal"
           },
           "missingValuesAsZero": true,
           "numberFormat": "0,0.[00000]",
           "percentFormat": "0[.]00%",
           "series": {
            "error_y": {
             "type": "data",
             "visible": true
            },
            "stacking": null
           },
           "seriesOptions": {
            "column_64d375ea411": {
             "name": "together",
             "type": "heatmap",
             "yAxis": 0
            },
            "column_64d375ea413": {
             "type": "heatmap",
             "yAxis": 0
            }
           },
           "showDataLabels": false,
           "sizemode": "diameter",
           "sortX": true,
           "sortY": true,
           "swappedAxes": false,
           "textFormat": "",
           "useAggregationsUi": true,
           "valuesOptions": {},
           "version": 2,
           "xAxis": {
            "labels": {
             "enabled": true
            },
            "type": "-"
           },
           "yAxis": [
            {
             "type": "-"
            },
            {
             "opposite": true,
             "type": "-"
            }
           ]
          }
         }
        ]
       },
       "datasetPreviewNameToCmdIdMap": {},
       "diffDeletes": [],
       "diffInserts": [],
       "displayType": "redashChart",
       "error": null,
       "errorDetails": null,
       "errorSummary": null,
       "errorTraceType": null,
       "finishTime": 0,
       "globalVars": {},
       "guid": "",
       "height": "auto",
       "hideCommandCode": false,
       "hideCommandResult": false,
       "iPythonMetadata": null,
       "inputWidgets": {},
       "isLockedInExamMode": false,
       "latestAssumeRoleInfo": null,
       "latestUser": "a user",
       "latestUserId": null,
       "listResultMetadata": null,
       "metadata": {},
       "nuid": "47c261e4-0f4d-4ec3-965c-51ebf058bcbb",
       "origId": 0,
       "parentHierarchy": [],
       "pivotAggregation": null,
       "pivotColumns": null,
       "position": 27.0,
       "resultDbfsErrorMessage": null,
       "resultDbfsStatus": "INLINED_IN_TREE",
       "results": null,
       "showCommandTitle": false,
       "startTime": 0,
       "state": "input",
       "streamStates": {},
       "subcommandOptions": {
        "queryPlan": {
         "groups": [
          {
           "column": "sku_a",
           "type": "column"
          },
          {
           "column": "sku_b",
           "type": "column"
          }
         ],
         "selects": [
          {
           "column": "sku_a",
           "type": "column"
          },
          {
           "column": "sku_b",
           "type": "column"
          },
          {
           "alias": "column_64d375ea415",
           "args": [
            {
             "column": "together",
             "type": "column"
            }
           ],
           "function": "SUM",
           "type": "function"
          }
         ]
        }
       },
       "submitTime": 0,
       "subtype": "tableResultSubCmd.visualization",
       "tableResultIndex": 0,
       "tableResultSettingsMap": {},
       "useConsistentColors": false,
       "version": "CommandV1",
       "width": "auto",
       "workflows": null,
       "xColumns": null,
       "yColumns": null
      }
     },
     "output_type": "display_data"
    }
   ],
   "source": [
    "%sql\n",
    "-- Pairs of products on the same invoice; filter out self-pairs and rare pairs\n",
    "WITH base AS (\n",
    "  SELECT DISTINCT invoice_no, stock_code\n",
    "  FROM production.silver.v_retail_clean_typed\n",
    "),\n",
    "pairs AS (\n",
    "  SELECT a.stock_code AS sku_a, b.stock_code AS sku_b, COUNT(*) AS together\n",
    "  FROM base a\n",
    "  JOIN base b\n",
    "    ON a.invoice_no = b.invoice_no\n",
    "   AND a.stock_code < b.stock_code\n",
    "  GROUP BY a.stock_code, b.stock_code\n",
    ")\n",
    "SELECT *\n",
    "FROM pairs\n",
    "WHERE together >= 20            -- adjust threshold\n",
    "ORDER BY together DESC\n",
    "LIMIT 25;\n"
   ]
  },
  {
   "cell_type": "markdown",
   "metadata": {
    "application/vnd.databricks.v1+cell": {
     "cellMetadata": {},
     "inputWidgets": {},
     "nuid": "8d6b9bd4-bb67-42e9-a928-14dbc449489c",
     "showTitle": false,
     "tableResultSettingsMap": {},
     "title": ""
    }
   },
   "source": [
    "Observation: Products like “Party Banner” + “Gift Wrap” often appear in the same basket.\n",
    "Insight: Cross-selling opportunities exist for frequently paired items.\n",
    "Action: Bundle common pairs or recommend them at checkout to boost AOV."
   ]
  },
  {
   "cell_type": "code",
   "execution_count": 0,
   "metadata": {
    "application/vnd.databricks.v1+cell": {
     "cellMetadata": {},
     "inputWidgets": {},
     "nuid": "7a67d638-5aa7-42ae-9a64-73bc628e8e08",
     "showTitle": false,
     "tableResultSettingsMap": {},
     "title": ""
    }
   },
   "outputs": [],
   "source": []
  }
 ],
 "metadata": {
  "application/vnd.databricks.v1+notebook": {
   "computePreferences": null,
   "dashboards": [],
   "environmentMetadata": {
    "base_environment": "",
    "environment_version": "3"
   },
   "inputWidgetPreferences": null,
   "language": "python",
   "notebookMetadata": {
    "mostRecentlyExecutedCommandWithImplicitDF": {
     "commandId": 7837633743003883,
     "dataframes": [
      "_sqldf"
     ]
    },
    "pythonIndentUnit": 4
   },
   "notebookName": "Retail_Sales_Insights",
   "widgets": {}
  },
  "language_info": {
   "name": "python"
  }
 },
 "nbformat": 4,
 "nbformat_minor": 0
}
